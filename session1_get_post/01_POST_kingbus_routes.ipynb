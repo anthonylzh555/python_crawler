{
 "cells": [
  {
   "cell_type": "markdown",
   "metadata": {},
   "source": [
    "# POST爬蟲練習\n",
    "\n",
    "- 觀察 http://www.kingbus.com.tw/ticketRoute.php 並撰寫爬蟲程式\n",
    "- 抓取台北至朝馬轉運站的路線\n",
    "- 使用 requests + BeautifulSoup 實作\n",
    "- 透過 pandas 輸出成 csv"
   ]
  },
  {
   "cell_type": "code",
   "execution_count": null,
   "metadata": {},
   "outputs": [],
   "source": [
    "import os\n",
    "import requests\n",
    "import pandas as pd\n",
    "import datetime\n",
    "from bs4 import BeautifulSoup\n",
    "\n",
    "url = 'http://www.kingbus.com.tw/ticketRoute.php'"
   ]
  },
  {
   "cell_type": "code",
   "execution_count": null,
   "metadata": {},
   "outputs": [],
   "source": [
    "form_data = {\n",
    "    'city1': '台北',\n",
    "    'area': '台北',\n",
    "    'origin': '臺北轉運站',\n",
    "    'destination': '朝馬轉運站',\n",
    "    'submit': '查詢',\n",
    "    'opt': 'search'\n",
    "}"
   ]
  },
  {
   "cell_type": "code",
   "execution_count": null,
   "metadata": {},
   "outputs": [],
   "source": [
    "resp = requests.post(url, data=form_data)\n",
    "resp.encoding = 'utf-8'\n",
    "soup = BeautifulSoup(resp.text, 'lxml')"
   ]
  },
  {
   "cell_type": "code",
   "execution_count": null,
   "metadata": {},
   "outputs": [],
   "source": [
    "route_data = soup.find('ul', {'class': 'routeData'})\n",
    "routes = route_data.find_all('a')\n",
    "[list(row.stripped_strings) for row in routes]"
   ]
  },
  {
   "cell_type": "code",
   "execution_count": null,
   "metadata": {},
   "outputs": [],
   "source": [
    "rows = []\n",
    "for i, row in enumerate(routes):\n",
    "    strings = list(row.stripped_strings)\n",
    "    route_number = strings[1]\n",
    "    description = ''.join(strings[2:]).replace('\\r', '').replace('\\n', '')\n",
    "    rows.append([route_number, description])"
   ]
  },
  {
   "cell_type": "code",
   "execution_count": null,
   "metadata": {},
   "outputs": [],
   "source": [
    "df = pd.DataFrame(rows, columns=['route', 'description'])\n",
    "df"
   ]
  },
  {
   "cell_type": "code",
   "execution_count": null,
   "metadata": {},
   "outputs": [],
   "source": [
    "results = os.path.abspath('results')\n",
    "if not os.path.exists(results):\n",
    "    os.makedirs(results)\n",
    "\n",
    "filename = os.path.join(results, 'kingbus.csv')\n",
    "df.to_csv(filename, index=False)\n",
    "print('Save csv to {}'.format(filename))"
   ]
  },
  {
   "cell_type": "code",
   "execution_count": null,
   "metadata": {},
   "outputs": [],
   "source": []
  }
 ],
 "metadata": {
  "kernelspec": {
   "display_name": "Python 3",
   "language": "python",
   "name": "python3"
  },
  "language_info": {
   "codemirror_mode": {
    "name": "ipython",
    "version": 3
   },
   "file_extension": ".py",
   "mimetype": "text/x-python",
   "name": "python",
   "nbconvert_exporter": "python",
   "pygments_lexer": "ipython3",
   "version": "3.6.6"
  }
 },
 "nbformat": 4,
 "nbformat_minor": 2
}
