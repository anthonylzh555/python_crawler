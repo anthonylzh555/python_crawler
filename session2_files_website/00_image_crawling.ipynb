{
 "cells": [
  {
   "cell_type": "markdown",
   "metadata": {},
   "source": [
    "# 練習\n",
    "\n",
    "- 觀察 https://www.pexels.com/ 並撰寫爬蟲程式\n",
    "- 下載 5 張桌布圖"
   ]
  },
  {
   "cell_type": "code",
   "execution_count": null,
   "metadata": {},
   "outputs": [],
   "source": [
    "import requests\n",
    "import re\n",
    "import os\n",
    "\n",
    "from bs4 import BeautifulSoup\n",
    "from pprint import pprint\n",
    "\n",
    "#由於pexels.com網站更新，目前已會擋爬蟲程式，在此先安裝fake_useragent套件創一個假的header\n",
    "#此方法會在後續\"基本反爬蟲\"章節中User-Agent部分教到 (投影片p.93)\n",
    "!pip install fake-useragent\n",
    "from fake_useragent import UserAgent\n",
    "\n",
    "url = 'https://www.pexels.com/'"
   ]
  },
  {
   "cell_type": "code",
   "execution_count": null,
   "metadata": {},
   "outputs": [],
   "source": [
    "#fake-useragent部分\n",
    "ua = UserAgent()\n",
    "headers={\"User-Agent\":ua.random}\n",
    "\n",
    "resp = requests.get(url,headers = headers)\n",
    "soup = BeautifulSoup(resp.text, 'lxml')"
   ]
  },
  {
   "cell_type": "code",
   "execution_count": null,
   "metadata": {},
   "outputs": [],
   "source": [
    "article = soup.find('div', class_='photos').find_all('article', class_='photo-item')\n",
    "imgs = [a.find('a').find('img')['src'] for a in article]\n",
    "target = imgs[:5]\n",
    "\n",
    "pprint(target)"
   ]
  },
  {
   "cell_type": "code",
   "execution_count": null,
   "metadata": {},
   "outputs": [],
   "source": [
    "results = os.path.abspath('../results')\n",
    "\n",
    "if not os.path.exists(results):\n",
    "    os.makedirs(results)\n",
    "\n",
    "for i in target:\n",
    "    img_resp = requests.get(i, stream=True, headers=headers)\n",
    "    filename = re.match(r\".*(pexels-photo-([0-9]*)\\.jpeg).*\", i).group(1)\n",
    "    print('regex catch the name {}'.format(filename))\n",
    "    \n",
    "    filename = os.path.join(results, filename)\n",
    "\n",
    "    with open(filename, 'wb') as f:\n",
    "        for chunk in img_resp.iter_content(2048):\n",
    "            f.write(chunk)\n",
    "        print('Save the img at {}'.format(filename))"
   ]
  },
  {
   "cell_type": "code",
   "execution_count": null,
   "metadata": {},
   "outputs": [],
   "source": []
  }
 ],
 "metadata": {
  "kernelspec": {
   "display_name": "Python 3",
   "language": "python",
   "name": "python3"
  },
  "language_info": {
   "codemirror_mode": {
    "name": "ipython",
    "version": 3
   },
   "file_extension": ".py",
   "mimetype": "text/x-python",
   "name": "python",
   "nbconvert_exporter": "python",
   "pygments_lexer": "ipython3",
   "version": "3.6.4"
  }
 },
 "nbformat": 4,
 "nbformat_minor": 2
}
